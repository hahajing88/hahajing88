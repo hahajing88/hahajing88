{
 "cells": [
  {
   "cell_type": "code",
   "execution_count": 2,
   "metadata": {},
   "outputs": [],
   "source": [
    "import requests\n",
    "import json\n",
    "import pandas as pd\n",
    "from tqdm import tqdm\n",
    "import math\n",
    "import os\n",
    "from glob import glob"
   ]
  },
  {
   "cell_type": "code",
   "execution_count": 3,
   "metadata": {},
   "outputs": [
    {
     "data": {
      "text/html": [
       "<div>\n",
       "<style scoped>\n",
       "    .dataframe tbody tr th:only-of-type {\n",
       "        vertical-align: middle;\n",
       "    }\n",
       "\n",
       "    .dataframe tbody tr th {\n",
       "        vertical-align: top;\n",
       "    }\n",
       "\n",
       "    .dataframe thead th {\n",
       "        text-align: right;\n",
       "    }\n",
       "</style>\n",
       "<table border=\"1\" class=\"dataframe\">\n",
       "  <thead>\n",
       "    <tr style=\"text-align: right;\">\n",
       "      <th></th>\n",
       "      <th>序号</th>\n",
       "      <th>Title-题名</th>\n",
       "      <th>Author-作者</th>\n",
       "      <th>Organ-单位</th>\n",
       "      <th>Source-文献来源</th>\n",
       "      <th>Keyword-关键词</th>\n",
       "      <th>Summary-摘要</th>\n",
       "      <th>PubTime-发表时间</th>\n",
       "      <th>CLC-中图分类号</th>\n",
       "    </tr>\n",
       "  </thead>\n",
       "  <tbody>\n",
       "    <tr>\n",
       "      <th>0</th>\n",
       "      <td>1</td>\n",
       "      <td>4D打印技术的研究进展</td>\n",
       "      <td>卢海洲; 罗炫; 陈涛; 刘钊; 杨超</td>\n",
       "      <td>华南理工大学国家金属材料近净成形工程技术研究中心;</td>\n",
       "      <td>航空材料学报</td>\n",
       "      <td>4D打印;;智能材料;;增材制造;;组织性能</td>\n",
       "      <td>4D打印是实现对智能材料的增材制造技术。本文基于复合材料、形状记忆聚合物、形状记忆合金等材料...</td>\n",
       "      <td>2019-04-01</td>\n",
       "      <td>TP391.73</td>\n",
       "    </tr>\n",
       "    <tr>\n",
       "      <th>1</th>\n",
       "      <td>2</td>\n",
       "      <td>基于Vague相似性的藏文文本推荐方法</td>\n",
       "      <td>刘永志; 才华; 才藏太; 林峰</td>\n",
       "      <td>福州职业技术学院阿里巴巴大数据学院;青海师范大学藏文信息处理教育部重点实验室;青海师范大学青...</td>\n",
       "      <td>高原科学研究</td>\n",
       "      <td>藏文文本;;Vague;;相似性;;推荐算法</td>\n",
       "      <td>随着数字信息技术的发展,藏文在移动终端和互联网中得到广泛的应用。文章收集了豆瓣网上的藏文书籍...</td>\n",
       "      <td>2021-12-15</td>\n",
       "      <td>TP391.1;TP391.3;H214</td>\n",
       "    </tr>\n",
       "    <tr>\n",
       "      <th>2</th>\n",
       "      <td>3</td>\n",
       "      <td>基于分段估计和PageRank的文本信息相似性搜索算法</td>\n",
       "      <td>翟玲; 崔旭</td>\n",
       "      <td>西安科技大学图书馆信息技术部;西北大学公共管理学院;</td>\n",
       "      <td>吉林大学学报(工学版)</td>\n",
       "      <td>分段估计;;PageRank;;文本信息;;相似性搜索</td>\n",
       "      <td>由于当前已有方法未能考虑文本信息特征提取问题，导致平均相关性、平均优异率和新词搜索准确率下降...</td>\n",
       "      <td>2021-03-22 16:59</td>\n",
       "      <td>TP391.3;TP391.1</td>\n",
       "    </tr>\n",
       "    <tr>\n",
       "      <th>3</th>\n",
       "      <td>4</td>\n",
       "      <td>基于双手键盘的虚拟现实文本输入</td>\n",
       "      <td>秦贵和; 黄俊锋; 孙铭会</td>\n",
       "      <td>吉林大学计算机科学与技术学院;</td>\n",
       "      <td>吉林大学学报(工学版)</td>\n",
       "      <td>计算机应用技术;;人机交互;;虚拟现实;;文本输入;;单词消歧</td>\n",
       "      <td>文字输入是虚拟现实(VR)环境中最常见的交互行为,目前主流的文字输入是通过激光瞄准的方式实现...</td>\n",
       "      <td>2021-08-19 15:31</td>\n",
       "      <td>TP391.9;TP391.1</td>\n",
       "    </tr>\n",
       "    <tr>\n",
       "      <th>4</th>\n",
       "      <td>5</td>\n",
       "      <td>基于增强现实的产品质量信息传递方法</td>\n",
       "      <td>程云; 黄瑞; 蒋俊锋; 陈正鸣; 许涛</td>\n",
       "      <td>河海大学图形图像与骨科植入物数字化技术常州市重点实验室;</td>\n",
       "      <td>计算机辅助设计与图形学学报</td>\n",
       "      <td>产品信息;;制造特征;;模板匹配;;增强现实</td>\n",
       "      <td>针对当前工作人员通过二维图纸或者三维CAD模型来检测零件时存在的效率低下等问题,提出一种基于...</td>\n",
       "      <td>2019-05-15</td>\n",
       "      <td>TP391.72;TP391.9</td>\n",
       "    </tr>\n",
       "  </tbody>\n",
       "</table>\n",
       "</div>"
      ],
      "text/plain": [
       "   序号                     Title-题名             Author-作者  \\\n",
       "0   1                  4D打印技术的研究进展   卢海洲; 罗炫; 陈涛; 刘钊; 杨超   \n",
       "1   2          基于Vague相似性的藏文文本推荐方法      刘永志; 才华; 才藏太; 林峰   \n",
       "2   3  基于分段估计和PageRank的文本信息相似性搜索算法                翟玲; 崔旭   \n",
       "3   4              基于双手键盘的虚拟现实文本输入         秦贵和; 黄俊锋; 孙铭会   \n",
       "4   5            基于增强现实的产品质量信息传递方法  程云; 黄瑞; 蒋俊锋; 陈正鸣; 许涛   \n",
       "\n",
       "                                            Organ-单位    Source-文献来源  \\\n",
       "0                          华南理工大学国家金属材料近净成形工程技术研究中心;         航空材料学报   \n",
       "1  福州职业技术学院阿里巴巴大数据学院;青海师范大学藏文信息处理教育部重点实验室;青海师范大学青...         高原科学研究   \n",
       "2                         西安科技大学图书馆信息技术部;西北大学公共管理学院;    吉林大学学报(工学版)   \n",
       "3                                    吉林大学计算机科学与技术学院;    吉林大学学报(工学版)   \n",
       "4                       河海大学图形图像与骨科植入物数字化技术常州市重点实验室;  计算机辅助设计与图形学学报   \n",
       "\n",
       "                       Keyword-关键词  \\\n",
       "0           4D打印;;智能材料;;增材制造;;组织性能   \n",
       "1           藏文文本;;Vague;;相似性;;推荐算法   \n",
       "2      分段估计;;PageRank;;文本信息;;相似性搜索   \n",
       "3  计算机应用技术;;人机交互;;虚拟现实;;文本输入;;单词消歧   \n",
       "4           产品信息;;制造特征;;模板匹配;;增强现实   \n",
       "\n",
       "                                          Summary-摘要      PubTime-发表时间  \\\n",
       "0  4D打印是实现对智能材料的增材制造技术。本文基于复合材料、形状记忆聚合物、形状记忆合金等材料...        2019-04-01   \n",
       "1  随着数字信息技术的发展,藏文在移动终端和互联网中得到广泛的应用。文章收集了豆瓣网上的藏文书籍...        2021-12-15   \n",
       "2  由于当前已有方法未能考虑文本信息特征提取问题，导致平均相关性、平均优异率和新词搜索准确率下降...  2021-03-22 16:59   \n",
       "3  文字输入是虚拟现实(VR)环境中最常见的交互行为,目前主流的文字输入是通过激光瞄准的方式实现...  2021-08-19 15:31   \n",
       "4  针对当前工作人员通过二维图纸或者三维CAD模型来检测零件时存在的效率低下等问题,提出一种基于...        2019-05-15   \n",
       "\n",
       "              CLC-中图分类号  \n",
       "0              TP391.73  \n",
       "1  TP391.1;TP391.3;H214  \n",
       "2       TP391.3;TP391.1  \n",
       "3       TP391.9;TP391.1  \n",
       "4      TP391.72;TP391.9  "
      ]
     },
     "execution_count": 3,
     "metadata": {},
     "output_type": "execute_result"
    }
   ],
   "source": [
    "df = pd.read_excel('./data/数据_预处理后.xlsx',sheet_name='计算机科学')\n",
    "df.head()"
   ]
  },
  {
   "cell_type": "code",
   "execution_count": 4,
   "metadata": {},
   "outputs": [
    {
     "data": {
      "text/plain": [
       "7821"
      ]
     },
     "execution_count": 4,
     "metadata": {},
     "output_type": "execute_result"
    }
   ],
   "source": [
    "len(df)"
   ]
  },
  {
   "cell_type": "code",
   "execution_count": 5,
   "metadata": {},
   "outputs": [],
   "source": [
    "abstracts = df['Summary-摘要'].values.tolist()\n",
    "total = len(abstracts)\n",
    "l = math.ceil(total / 20)\n",
    "i = 0"
   ]
  },
  {
   "cell_type": "code",
   "execution_count": 9,
   "metadata": {},
   "outputs": [
    {
     "name": "stderr",
     "output_type": "stream",
     "text": [
      "100%|██████████| 347/347 [5:15:07<00:00, 54.49s/it]   \n"
     ]
    }
   ],
   "source": [
    "for i in tqdm(range(int(900/20),l), total=(l-int(900/20))):\n",
    "#for i in tqdm(range(int(900/20),l), total=(l-int(900/20))):\n",
    "    start = i*20\n",
    "    end = start + 20\n",
    "    if start + 20 > total:\n",
    "        end = total\n",
    "    data = abstracts[start : end]\n",
    "    res = requests.post('http://sciengine.las.ac.cn/api_ner_sci_cn', data={\n",
    "        'data': data,\n",
    "        #'token': 'Zq6ITZM5'  #2363238156@qq.com\n",
    "        #'token':'wrpP7mD4'  #鸭鸭\n",
    "        'token':'HqdZ6J6a'\n",
    "    })\n",
    "    with open('./data/计算机科学/%d-%d.json' %(start,end-1) , 'w', encoding='utf-8') as f: #3100\n",
    "        f.write(res.text.replace('\\\\\"', '').replace(\"\\\\'\", '').replace(\"'\", \"\").encode('utf-8').decode('unicode-escape'))\n",
    "        f.close()"
   ]
  }
 ],
 "metadata": {
  "kernelspec": {
   "display_name": "base",
   "language": "python",
   "name": "python3"
  },
  "language_info": {
   "codemirror_mode": {
    "name": "ipython",
    "version": 3
   },
   "file_extension": ".py",
   "mimetype": "text/x-python",
   "name": "python",
   "nbconvert_exporter": "python",
   "pygments_lexer": "ipython3",
   "version": "3.8.16"
  }
 },
 "nbformat": 4,
 "nbformat_minor": 2
}
